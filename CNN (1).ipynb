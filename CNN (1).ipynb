{
  "nbformat": 4,
  "nbformat_minor": 0,
  "metadata": {
    "colab": {
      "provenance": []
    },
    "kernelspec": {
      "name": "python3",
      "display_name": "Python 3"
    },
    "language_info": {
      "name": "python"
    },
    "accelerator": "TPU",
    "gpuClass": "standard"
  },
  "cells": [
    {
      "cell_type": "code",
      "execution_count": null,
      "metadata": {
        "colab": {
          "base_uri": "https://localhost:8080/"
        },
        "id": "jTEONgphnMEV",
        "outputId": "fa38e06a-d532-418e-afdc-88aaec6478d1"
      },
      "outputs": [
        {
          "output_type": "stream",
          "name": "stdout",
          "text": [
            "Mounted at /content/drive\n"
          ]
        }
      ],
      "source": [
        "from google.colab import drive\n",
        "drive.mount('/content/drive')"
      ]
    },
    {
      "cell_type": "code",
      "source": [
        "import tensorflow as tf\n",
        "from tensorflow import keras\n",
        "import numpy as np\n",
        "import os\n",
        "import cv2\n",
        "import pandas as pd\n",
        "import seaborn as sns\n",
        "from sklearn.model_selection import train_test_split\n",
        "from sklearn.metrics import accuracy_score, classification_report, confusion_matrix\n",
        "from matplotlib import pyplot as plt"
      ],
      "metadata": {
        "id": "GGA0EIY2nZC4"
      },
      "execution_count": null,
      "outputs": []
    },
    {
      "cell_type": "code",
      "source": [
        "translations = ['cavallo','elefante','gallina','cane','farfalla']\n",
        "X = []\n",
        "Y = []\n",
        "for i in range(5):\n",
        "    path = '/content/drive/MyDrive/animal_10/raw-img/' + translations[i]\n",
        "    \n",
        "    for file in os.listdir(path):\n",
        "        try: \n",
        "            imgArray = cv2.imread(os.path.join(path, file))\n",
        "            \n",
        "#             resize images so they are all square and consistent\n",
        "            imgArray = cv2.resize(imgArray, (100,100))\n",
        "    \n",
        "            X.append(imgArray)\n",
        "            Y.append(i)\n",
        "        except:\n",
        "            pass"
      ],
      "metadata": {
        "id": "TxbOW-XZpLum"
      },
      "execution_count": null,
      "outputs": []
    },
    {
      "cell_type": "code",
      "source": [
        "X = np.array(X)\n",
        "Y = np.array(Y)\n",
        "print('X shape: ', X.shape)\n",
        "print('Y shape: ', Y.shape)"
      ],
      "metadata": {
        "id": "h0Ht3KdYpZpH",
        "colab": {
          "base_uri": "https://localhost:8080/"
        },
        "outputId": "80a21770-ed01-4269-e53c-9a741b0619ac"
      },
      "execution_count": null,
      "outputs": [
        {
          "output_type": "stream",
          "name": "stdout",
          "text": [
            "X shape:  (14086, 100, 100, 3)\n",
            "Y shape:  (14086,)\n"
          ]
        }
      ]
    },
    {
      "cell_type": "code",
      "source": [
        "xtrain,xtest, ytrain,ytest=train_test_split(X,Y,test_size=0.1, random_state=42)"
      ],
      "metadata": {
        "id": "OHDzjvikqZOw"
      },
      "execution_count": null,
      "outputs": []
    },
    {
      "cell_type": "code",
      "source": [
        "print(xtrain.shape)\n",
        "print(ytrain.shape)\n",
        "print(xtest.shape)\n",
        "print(ytest.shape)"
      ],
      "metadata": {
        "id": "nk61_d0_qci_",
        "colab": {
          "base_uri": "https://localhost:8080/"
        },
        "outputId": "3bb60d67-c0c8-4e81-ba46-ba3212fb73db"
      },
      "execution_count": null,
      "outputs": [
        {
          "output_type": "stream",
          "name": "stdout",
          "text": [
            "(12677, 100, 100, 3)\n",
            "(12677,)\n",
            "(1409, 100, 100, 3)\n",
            "(1409,)\n"
          ]
        }
      ]
    },
    {
      "cell_type": "code",
      "source": [
        " "
      ],
      "metadata": {
        "id": "FNrudwpNqiCl"
      },
      "execution_count": null,
      "outputs": []
    },
    {
      "cell_type": "code",
      "source": [
        "print(xtrain.shape)\n",
        "print(ytrain.shape)\n",
        "print(xtest.shape)\n",
        "print(ytest.shape)"
      ],
      "metadata": {
        "id": "e_cgjAIkqkZE",
        "colab": {
          "base_uri": "https://localhost:8080/"
        },
        "outputId": "3e0467b0-70ae-4e89-c8c5-570459623ca3"
      },
      "execution_count": null,
      "outputs": [
        {
          "output_type": "stream",
          "name": "stdout",
          "text": [
            "(12677, 100, 100, 3)\n",
            "(12677,)\n",
            "(1409, 100, 100, 3)\n",
            "(1409,)\n"
          ]
        }
      ]
    },
    {
      "cell_type": "code",
      "source": [
        "input_shape = xtrain[0].shape\n",
        "num_classes = 5"
      ],
      "metadata": {
        "id": "38wWLUEzqntE"
      },
      "execution_count": null,
      "outputs": []
    },
    {
      "cell_type": "code",
      "source": [
        "import tensorflow as tf"
      ],
      "metadata": {
        "id": "gGQTk6BYFvUF"
      },
      "execution_count": null,
      "outputs": []
    },
    {
      "cell_type": "code",
      "source": [
        "tf.keras.backend.clear_session()\n",
        "np.random.seed(0)\n",
        "tf.random.set_seed(0)\n",
        "\n",
        "model = keras.Sequential()\n",
        "\n",
        "model.add(keras.layers.Conv2D(32, kernel_size = 3, activation='relu', input_shape = input_shape))\n",
        "model.add(keras.layers.MaxPooling2D(pool_size=(2,2)))\n",
        "\n",
        "model.add(keras.layers.Flatten())\n",
        "\n",
        "model.add(keras.layers.Dense(128, activation = 'relu'))\n",
        "\n",
        "model.add(keras.layers.Dense(64, activation = 'relu'))\n",
        "model.add(keras.layers.Dense(units=num_classes, activation = 'softmax'))\n",
        "\n",
        "#model.compile(optimizer='adam', loss=keras.losses.sparse_categorical_crossentropy, metrics=['accuracy'])\n",
        "model.compile(optimizer=tensorflow.keras.optimizers.Adam(), loss=keras.losses.sparse_categorical_crossentropy, metrics=['accuracy'])\n",
        "model.summary()"
      ],
      "metadata": {
        "id": "fITPLZwMqsQ8",
        "colab": {
          "base_uri": "https://localhost:8080/",
          "height": 231
        },
        "outputId": "26f8ec15-72c3-4a2e-ede2-e20cac47aea6"
      },
      "execution_count": null,
      "outputs": [
        {
          "output_type": "error",
          "ename": "TypeError",
          "evalue": "ignored",
          "traceback": [
            "\u001b[0;31m---------------------------------------------------------------------------\u001b[0m",
            "\u001b[0;31mTypeError\u001b[0m                                 Traceback (most recent call last)",
            "\u001b[0;32m<ipython-input-86-cc1148be1f3c>\u001b[0m in \u001b[0;36m<cell line: 18>\u001b[0;34m()\u001b[0m\n\u001b[1;32m     16\u001b[0m \u001b[0;34m\u001b[0m\u001b[0m\n\u001b[1;32m     17\u001b[0m \u001b[0;31m#model.compile(optimizer='adam', loss=keras.losses.sparse_categorical_crossentropy, metrics=['accuracy'])\u001b[0m\u001b[0;34m\u001b[0m\u001b[0;34m\u001b[0m\u001b[0m\n\u001b[0;32m---> 18\u001b[0;31m \u001b[0mmodel\u001b[0m\u001b[0;34m.\u001b[0m\u001b[0mcompile\u001b[0m\u001b[0;34m(\u001b[0m\u001b[0moptimizer\u001b[0m\u001b[0;34m=\u001b[0m\u001b[0mtensorflow\u001b[0m\u001b[0;34m.\u001b[0m\u001b[0mkeras\u001b[0m\u001b[0;34m.\u001b[0m\u001b[0moptimizers\u001b[0m\u001b[0;34m(\u001b[0m\u001b[0;34m)\u001b[0m\u001b[0;34m,\u001b[0m \u001b[0mloss\u001b[0m\u001b[0;34m=\u001b[0m\u001b[0mkeras\u001b[0m\u001b[0;34m.\u001b[0m\u001b[0mlosses\u001b[0m\u001b[0;34m.\u001b[0m\u001b[0msparse_categorical_crossentropy\u001b[0m\u001b[0;34m,\u001b[0m \u001b[0mmetrics\u001b[0m\u001b[0;34m=\u001b[0m\u001b[0;34m[\u001b[0m\u001b[0;34m'accuracy'\u001b[0m\u001b[0;34m]\u001b[0m\u001b[0;34m)\u001b[0m\u001b[0;34m\u001b[0m\u001b[0;34m\u001b[0m\u001b[0m\n\u001b[0m\u001b[1;32m     19\u001b[0m \u001b[0mmodel\u001b[0m\u001b[0;34m.\u001b[0m\u001b[0msummary\u001b[0m\u001b[0;34m(\u001b[0m\u001b[0;34m)\u001b[0m\u001b[0;34m\u001b[0m\u001b[0;34m\u001b[0m\u001b[0m\n",
            "\u001b[0;31mTypeError\u001b[0m: 'module' object is not callable"
          ]
        }
      ]
    },
    {
      "cell_type": "code",
      "source": [
        "history = model.fit(x = xtrain, \n",
        "    y = ytrain,\n",
        "    epochs = 15,\n",
        "    batch_size = 1000,\n",
        "    validation_split=0.1,\n",
        "    verbose=1)"
      ],
      "metadata": {
        "id": "lmDueThsqwom",
        "colab": {
          "base_uri": "https://localhost:8080/"
        },
        "outputId": "469708bc-c245-4bbb-f06c-1fa8f6ea0184"
      },
      "execution_count": null,
      "outputs": [
        {
          "output_type": "stream",
          "name": "stdout",
          "text": [
            "Epoch 1/15\n",
            "12/12 [==============================] - 18s 320ms/step - loss: 2.9917 - accuracy: 0.2625 - val_loss: 1.5550 - val_accuracy: 0.2524\n",
            "Epoch 2/15\n",
            "12/12 [==============================] - 2s 149ms/step - loss: 1.5263 - accuracy: 0.3091 - val_loss: 1.4582 - val_accuracy: 0.4085\n",
            "Epoch 3/15\n",
            "12/12 [==============================] - 2s 149ms/step - loss: 1.4025 - accuracy: 0.4319 - val_loss: 1.3203 - val_accuracy: 0.4732\n",
            "Epoch 4/15\n",
            "12/12 [==============================] - 2s 150ms/step - loss: 1.2554 - accuracy: 0.5253 - val_loss: 1.1673 - val_accuracy: 0.5513\n",
            "Epoch 5/15\n",
            "12/12 [==============================] - 2s 162ms/step - loss: 1.0862 - accuracy: 0.5884 - val_loss: 1.0769 - val_accuracy: 0.5820\n",
            "Epoch 6/15\n",
            "12/12 [==============================] - 2s 163ms/step - loss: 0.9709 - accuracy: 0.6331 - val_loss: 0.9911 - val_accuracy: 0.6262\n",
            "Epoch 7/15\n",
            "12/12 [==============================] - 2s 192ms/step - loss: 0.8725 - accuracy: 0.6797 - val_loss: 0.9699 - val_accuracy: 0.6451\n",
            "Epoch 8/15\n",
            "12/12 [==============================] - 2s 170ms/step - loss: 0.8109 - accuracy: 0.7048 - val_loss: 0.9412 - val_accuracy: 0.6498\n",
            "Epoch 9/15\n",
            "12/12 [==============================] - 2s 153ms/step - loss: 0.7381 - accuracy: 0.7349 - val_loss: 0.8937 - val_accuracy: 0.6806\n",
            "Epoch 10/15\n",
            "12/12 [==============================] - 2s 152ms/step - loss: 0.6833 - accuracy: 0.7640 - val_loss: 0.8572 - val_accuracy: 0.6885\n",
            "Epoch 11/15\n",
            "12/12 [==============================] - 2s 151ms/step - loss: 0.6299 - accuracy: 0.7862 - val_loss: 0.8679 - val_accuracy: 0.6838\n",
            "Epoch 12/15\n",
            "12/12 [==============================] - 2s 165ms/step - loss: 0.5837 - accuracy: 0.8024 - val_loss: 0.8234 - val_accuracy: 0.7066\n",
            "Epoch 13/15\n",
            "12/12 [==============================] - 2s 151ms/step - loss: 0.5317 - accuracy: 0.8258 - val_loss: 0.8461 - val_accuracy: 0.7011\n",
            "Epoch 14/15\n",
            "12/12 [==============================] - 2s 195ms/step - loss: 0.4953 - accuracy: 0.8394 - val_loss: 0.8727 - val_accuracy: 0.6979\n",
            "Epoch 15/15\n",
            "12/12 [==============================] - 2s 185ms/step - loss: 0.4521 - accuracy: 0.8596 - val_loss: 0.8004 - val_accuracy: 0.7208\n"
          ]
        }
      ]
    },
    {
      "cell_type": "code",
      "source": [
        "model.save('mymodel.pkl')"
      ],
      "metadata": {
        "id": "XGa1dUInrS8u",
        "colab": {
          "base_uri": "https://localhost:8080/"
        },
        "outputId": "1f969f14-4a0b-41e8-9e0f-f2200a763b2a"
      },
      "execution_count": null,
      "outputs": [
        {
          "output_type": "stream",
          "name": "stderr",
          "text": [
            "WARNING:absl:Found untraced functions such as _jit_compiled_convolution_op while saving (showing 1 of 1). These functions will not be directly callable after loading.\n"
          ]
        }
      ]
    },
    {
      "cell_type": "code",
      "source": [
        "model.save('my_model.h5')"
      ],
      "metadata": {
        "id": "jo5QB1f2rWPG"
      },
      "execution_count": null,
      "outputs": []
    },
    {
      "cell_type": "code",
      "source": [
        "from keras.models import save_model\n",
        "save_model(model, \"model.h5\")"
      ],
      "metadata": {
        "id": "2LXMAGkGsu5l"
      },
      "execution_count": null,
      "outputs": []
    },
    {
      "cell_type": "code",
      "source": [
        "# serialize model to JSON\n",
        "model_json = model.to_json()\n",
        "with open(\"model.json\", \"w\") as json_file:\n",
        "    json_file.write(model_json)\n",
        "# serialize weights to HDF5\n",
        "model.save_weights(\"model.h5\")\n",
        "print(\"Saved model to disk\")"
      ],
      "metadata": {
        "id": "CPRHBXAPszoG",
        "colab": {
          "base_uri": "https://localhost:8080/"
        },
        "outputId": "e6e66b3e-f50e-4e28-d732-116b529cada5"
      },
      "execution_count": null,
      "outputs": [
        {
          "output_type": "stream",
          "name": "stdout",
          "text": [
            "Saved model to disk\n"
          ]
        }
      ]
    },
    {
      "cell_type": "code",
      "source": [
        "history = pd.DataFrame(history.history)\n",
        "display(history)"
      ],
      "metadata": {
        "id": "r7IEOWgTs3U9",
        "colab": {
          "base_uri": "https://localhost:8080/",
          "height": 514
        },
        "outputId": "3f39ec28-212c-4eea-9b2b-40fad92a8eb2"
      },
      "execution_count": null,
      "outputs": [
        {
          "output_type": "display_data",
          "data": {
            "text/plain": [
              "        loss  accuracy  val_loss  val_accuracy\n",
              "0   2.991666  0.262512  1.554980      0.252366\n",
              "1   1.526288  0.309142  1.458180      0.408517\n",
              "2   1.402511  0.431852  1.320286      0.473186\n",
              "3   1.255364  0.525287  1.167287      0.551262\n",
              "4   1.086236  0.588395  1.076943      0.582019\n",
              "5   0.970940  0.633097  0.991075      0.626183\n",
              "6   0.872490  0.679727  0.969921      0.645110\n",
              "7   0.810935  0.704794  0.941195      0.649842\n",
              "8   0.738145  0.734946  0.893731      0.680599\n",
              "9   0.683296  0.764046  0.857170      0.688486\n",
              "10  0.629941  0.786221  0.867940      0.683754\n",
              "11  0.583726  0.802437  0.823423      0.706625\n",
              "12  0.531712  0.825752  0.846089      0.701104\n",
              "13  0.495275  0.839425  0.872688      0.697950\n",
              "14  0.452122  0.859585  0.800436      0.720820"
            ],
            "text/html": [
              "\n",
              "  <div id=\"df-52307b43-d220-40f4-adda-b47842321cbe\">\n",
              "    <div class=\"colab-df-container\">\n",
              "      <div>\n",
              "<style scoped>\n",
              "    .dataframe tbody tr th:only-of-type {\n",
              "        vertical-align: middle;\n",
              "    }\n",
              "\n",
              "    .dataframe tbody tr th {\n",
              "        vertical-align: top;\n",
              "    }\n",
              "\n",
              "    .dataframe thead th {\n",
              "        text-align: right;\n",
              "    }\n",
              "</style>\n",
              "<table border=\"1\" class=\"dataframe\">\n",
              "  <thead>\n",
              "    <tr style=\"text-align: right;\">\n",
              "      <th></th>\n",
              "      <th>loss</th>\n",
              "      <th>accuracy</th>\n",
              "      <th>val_loss</th>\n",
              "      <th>val_accuracy</th>\n",
              "    </tr>\n",
              "  </thead>\n",
              "  <tbody>\n",
              "    <tr>\n",
              "      <th>0</th>\n",
              "      <td>2.991666</td>\n",
              "      <td>0.262512</td>\n",
              "      <td>1.554980</td>\n",
              "      <td>0.252366</td>\n",
              "    </tr>\n",
              "    <tr>\n",
              "      <th>1</th>\n",
              "      <td>1.526288</td>\n",
              "      <td>0.309142</td>\n",
              "      <td>1.458180</td>\n",
              "      <td>0.408517</td>\n",
              "    </tr>\n",
              "    <tr>\n",
              "      <th>2</th>\n",
              "      <td>1.402511</td>\n",
              "      <td>0.431852</td>\n",
              "      <td>1.320286</td>\n",
              "      <td>0.473186</td>\n",
              "    </tr>\n",
              "    <tr>\n",
              "      <th>3</th>\n",
              "      <td>1.255364</td>\n",
              "      <td>0.525287</td>\n",
              "      <td>1.167287</td>\n",
              "      <td>0.551262</td>\n",
              "    </tr>\n",
              "    <tr>\n",
              "      <th>4</th>\n",
              "      <td>1.086236</td>\n",
              "      <td>0.588395</td>\n",
              "      <td>1.076943</td>\n",
              "      <td>0.582019</td>\n",
              "    </tr>\n",
              "    <tr>\n",
              "      <th>5</th>\n",
              "      <td>0.970940</td>\n",
              "      <td>0.633097</td>\n",
              "      <td>0.991075</td>\n",
              "      <td>0.626183</td>\n",
              "    </tr>\n",
              "    <tr>\n",
              "      <th>6</th>\n",
              "      <td>0.872490</td>\n",
              "      <td>0.679727</td>\n",
              "      <td>0.969921</td>\n",
              "      <td>0.645110</td>\n",
              "    </tr>\n",
              "    <tr>\n",
              "      <th>7</th>\n",
              "      <td>0.810935</td>\n",
              "      <td>0.704794</td>\n",
              "      <td>0.941195</td>\n",
              "      <td>0.649842</td>\n",
              "    </tr>\n",
              "    <tr>\n",
              "      <th>8</th>\n",
              "      <td>0.738145</td>\n",
              "      <td>0.734946</td>\n",
              "      <td>0.893731</td>\n",
              "      <td>0.680599</td>\n",
              "    </tr>\n",
              "    <tr>\n",
              "      <th>9</th>\n",
              "      <td>0.683296</td>\n",
              "      <td>0.764046</td>\n",
              "      <td>0.857170</td>\n",
              "      <td>0.688486</td>\n",
              "    </tr>\n",
              "    <tr>\n",
              "      <th>10</th>\n",
              "      <td>0.629941</td>\n",
              "      <td>0.786221</td>\n",
              "      <td>0.867940</td>\n",
              "      <td>0.683754</td>\n",
              "    </tr>\n",
              "    <tr>\n",
              "      <th>11</th>\n",
              "      <td>0.583726</td>\n",
              "      <td>0.802437</td>\n",
              "      <td>0.823423</td>\n",
              "      <td>0.706625</td>\n",
              "    </tr>\n",
              "    <tr>\n",
              "      <th>12</th>\n",
              "      <td>0.531712</td>\n",
              "      <td>0.825752</td>\n",
              "      <td>0.846089</td>\n",
              "      <td>0.701104</td>\n",
              "    </tr>\n",
              "    <tr>\n",
              "      <th>13</th>\n",
              "      <td>0.495275</td>\n",
              "      <td>0.839425</td>\n",
              "      <td>0.872688</td>\n",
              "      <td>0.697950</td>\n",
              "    </tr>\n",
              "    <tr>\n",
              "      <th>14</th>\n",
              "      <td>0.452122</td>\n",
              "      <td>0.859585</td>\n",
              "      <td>0.800436</td>\n",
              "      <td>0.720820</td>\n",
              "    </tr>\n",
              "  </tbody>\n",
              "</table>\n",
              "</div>\n",
              "      <button class=\"colab-df-convert\" onclick=\"convertToInteractive('df-52307b43-d220-40f4-adda-b47842321cbe')\"\n",
              "              title=\"Convert this dataframe to an interactive table.\"\n",
              "              style=\"display:none;\">\n",
              "        \n",
              "  <svg xmlns=\"http://www.w3.org/2000/svg\" height=\"24px\"viewBox=\"0 0 24 24\"\n",
              "       width=\"24px\">\n",
              "    <path d=\"M0 0h24v24H0V0z\" fill=\"none\"/>\n",
              "    <path d=\"M18.56 5.44l.94 2.06.94-2.06 2.06-.94-2.06-.94-.94-2.06-.94 2.06-2.06.94zm-11 1L8.5 8.5l.94-2.06 2.06-.94-2.06-.94L8.5 2.5l-.94 2.06-2.06.94zm10 10l.94 2.06.94-2.06 2.06-.94-2.06-.94-.94-2.06-.94 2.06-2.06.94z\"/><path d=\"M17.41 7.96l-1.37-1.37c-.4-.4-.92-.59-1.43-.59-.52 0-1.04.2-1.43.59L10.3 9.45l-7.72 7.72c-.78.78-.78 2.05 0 2.83L4 21.41c.39.39.9.59 1.41.59.51 0 1.02-.2 1.41-.59l7.78-7.78 2.81-2.81c.8-.78.8-2.07 0-2.86zM5.41 20L4 18.59l7.72-7.72 1.47 1.35L5.41 20z\"/>\n",
              "  </svg>\n",
              "      </button>\n",
              "      \n",
              "  <style>\n",
              "    .colab-df-container {\n",
              "      display:flex;\n",
              "      flex-wrap:wrap;\n",
              "      gap: 12px;\n",
              "    }\n",
              "\n",
              "    .colab-df-convert {\n",
              "      background-color: #E8F0FE;\n",
              "      border: none;\n",
              "      border-radius: 50%;\n",
              "      cursor: pointer;\n",
              "      display: none;\n",
              "      fill: #1967D2;\n",
              "      height: 32px;\n",
              "      padding: 0 0 0 0;\n",
              "      width: 32px;\n",
              "    }\n",
              "\n",
              "    .colab-df-convert:hover {\n",
              "      background-color: #E2EBFA;\n",
              "      box-shadow: 0px 1px 2px rgba(60, 64, 67, 0.3), 0px 1px 3px 1px rgba(60, 64, 67, 0.15);\n",
              "      fill: #174EA6;\n",
              "    }\n",
              "\n",
              "    [theme=dark] .colab-df-convert {\n",
              "      background-color: #3B4455;\n",
              "      fill: #D2E3FC;\n",
              "    }\n",
              "\n",
              "    [theme=dark] .colab-df-convert:hover {\n",
              "      background-color: #434B5C;\n",
              "      box-shadow: 0px 1px 3px 1px rgba(0, 0, 0, 0.15);\n",
              "      filter: drop-shadow(0px 1px 2px rgba(0, 0, 0, 0.3));\n",
              "      fill: #FFFFFF;\n",
              "    }\n",
              "  </style>\n",
              "\n",
              "      <script>\n",
              "        const buttonEl =\n",
              "          document.querySelector('#df-52307b43-d220-40f4-adda-b47842321cbe button.colab-df-convert');\n",
              "        buttonEl.style.display =\n",
              "          google.colab.kernel.accessAllowed ? 'block' : 'none';\n",
              "\n",
              "        async function convertToInteractive(key) {\n",
              "          const element = document.querySelector('#df-52307b43-d220-40f4-adda-b47842321cbe');\n",
              "          const dataTable =\n",
              "            await google.colab.kernel.invokeFunction('convertToInteractive',\n",
              "                                                     [key], {});\n",
              "          if (!dataTable) return;\n",
              "\n",
              "          const docLinkHtml = 'Like what you see? Visit the ' +\n",
              "            '<a target=\"_blank\" href=https://colab.research.google.com/notebooks/data_table.ipynb>data table notebook</a>'\n",
              "            + ' to learn more about interactive tables.';\n",
              "          element.innerHTML = '';\n",
              "          dataTable['output_type'] = 'display_data';\n",
              "          await google.colab.output.renderOutput(dataTable, element);\n",
              "          const docLink = document.createElement('div');\n",
              "          docLink.innerHTML = docLinkHtml;\n",
              "          element.appendChild(docLink);\n",
              "        }\n",
              "      </script>\n",
              "    </div>\n",
              "  </div>\n",
              "  "
            ]
          },
          "metadata": {}
        }
      ]
    },
    {
      "cell_type": "code",
      "source": [
        "import pickle\n",
        "pickle.dump(model, open('model.pkl','wb'))"
      ],
      "metadata": {
        "id": "yFQsTfrds7-u"
      },
      "execution_count": null,
      "outputs": []
    },
    {
      "cell_type": "code",
      "source": [
        "label_names = ['dog', 'horse', 'elephant', 'butterfly', 'chicken']"
      ],
      "metadata": {
        "id": "uU26bKX4tAE-"
      },
      "execution_count": null,
      "outputs": []
    },
    {
      "cell_type": "code",
      "source": [
        "pred=model.predict(\"OIP-_3S-iEDMQnko7ZHgq_FTcwHaEL.jpeg\")"
      ],
      "metadata": {
        "id": "zZ8LfWcPjZcl",
        "colab": {
          "base_uri": "https://localhost:8080/",
          "height": 306
        },
        "outputId": "d22cffe5-eb88-417a-b3bb-ba2b05df666b"
      },
      "execution_count": null,
      "outputs": [
        {
          "output_type": "error",
          "ename": "IndexError",
          "evalue": "ignored",
          "traceback": [
            "\u001b[0;31m---------------------------------------------------------------------------\u001b[0m",
            "\u001b[0;31mIndexError\u001b[0m                                Traceback (most recent call last)",
            "\u001b[0;32m<ipython-input-34-89f6b161e2e7>\u001b[0m in \u001b[0;36m<cell line: 1>\u001b[0;34m()\u001b[0m\n\u001b[0;32m----> 1\u001b[0;31m \u001b[0mpred\u001b[0m\u001b[0;34m=\u001b[0m\u001b[0mmodel\u001b[0m\u001b[0;34m.\u001b[0m\u001b[0mpredict\u001b[0m\u001b[0;34m(\u001b[0m\u001b[0;34m\"OIP-_3S-iEDMQnko7ZHgq_FTcwHaEL.jpeg\"\u001b[0m\u001b[0;34m)\u001b[0m\u001b[0;34m\u001b[0m\u001b[0;34m\u001b[0m\u001b[0m\n\u001b[0m",
            "\u001b[0;32m/usr/local/lib/python3.9/dist-packages/keras/utils/traceback_utils.py\u001b[0m in \u001b[0;36merror_handler\u001b[0;34m(*args, **kwargs)\u001b[0m\n\u001b[1;32m     68\u001b[0m             \u001b[0;31m# To get the full stack trace, call:\u001b[0m\u001b[0;34m\u001b[0m\u001b[0;34m\u001b[0m\u001b[0m\n\u001b[1;32m     69\u001b[0m             \u001b[0;31m# `tf.debugging.disable_traceback_filtering()`\u001b[0m\u001b[0;34m\u001b[0m\u001b[0;34m\u001b[0m\u001b[0m\n\u001b[0;32m---> 70\u001b[0;31m             \u001b[0;32mraise\u001b[0m \u001b[0me\u001b[0m\u001b[0;34m.\u001b[0m\u001b[0mwith_traceback\u001b[0m\u001b[0;34m(\u001b[0m\u001b[0mfiltered_tb\u001b[0m\u001b[0;34m)\u001b[0m \u001b[0;32mfrom\u001b[0m \u001b[0;32mNone\u001b[0m\u001b[0;34m\u001b[0m\u001b[0;34m\u001b[0m\u001b[0m\n\u001b[0m\u001b[1;32m     71\u001b[0m         \u001b[0;32mfinally\u001b[0m\u001b[0;34m:\u001b[0m\u001b[0;34m\u001b[0m\u001b[0;34m\u001b[0m\u001b[0m\n\u001b[1;32m     72\u001b[0m             \u001b[0;32mdel\u001b[0m \u001b[0mfiltered_tb\u001b[0m\u001b[0;34m\u001b[0m\u001b[0;34m\u001b[0m\u001b[0m\n",
            "\u001b[0;32m/usr/local/lib/python3.9/dist-packages/tensorflow/python/framework/tensor_shape.py\u001b[0m in \u001b[0;36m__getitem__\u001b[0;34m(self, key)\u001b[0m\n\u001b[1;32m    955\u001b[0m       \u001b[0;32melse\u001b[0m\u001b[0;34m:\u001b[0m\u001b[0;34m\u001b[0m\u001b[0;34m\u001b[0m\u001b[0m\n\u001b[1;32m    956\u001b[0m         \u001b[0;32mif\u001b[0m \u001b[0mself\u001b[0m\u001b[0;34m.\u001b[0m\u001b[0m_v2_behavior\u001b[0m\u001b[0;34m:\u001b[0m\u001b[0;34m\u001b[0m\u001b[0;34m\u001b[0m\u001b[0m\n\u001b[0;32m--> 957\u001b[0;31m           \u001b[0;32mreturn\u001b[0m \u001b[0mself\u001b[0m\u001b[0;34m.\u001b[0m\u001b[0m_dims\u001b[0m\u001b[0;34m[\u001b[0m\u001b[0mkey\u001b[0m\u001b[0;34m]\u001b[0m\u001b[0;34m\u001b[0m\u001b[0;34m\u001b[0m\u001b[0m\n\u001b[0m\u001b[1;32m    958\u001b[0m         \u001b[0;32melse\u001b[0m\u001b[0;34m:\u001b[0m\u001b[0;34m\u001b[0m\u001b[0;34m\u001b[0m\u001b[0m\n\u001b[1;32m    959\u001b[0m           \u001b[0;32mreturn\u001b[0m \u001b[0mself\u001b[0m\u001b[0;34m.\u001b[0m\u001b[0mdims\u001b[0m\u001b[0;34m[\u001b[0m\u001b[0mkey\u001b[0m\u001b[0;34m]\u001b[0m\u001b[0;34m\u001b[0m\u001b[0;34m\u001b[0m\u001b[0m\n",
            "\u001b[0;31mIndexError\u001b[0m: tuple index out of range"
          ]
        }
      ]
    },
    {
      "cell_type": "code",
      "source": [
        "predictions = model.predict(xtest)\n",
        "\n",
        "predictions = np.argmax(predictions, axis = 1)\n",
        "\n",
        "print(classification_report(ytest, predictions, target_names = label_names))\n",
        "    \n",
        "cm = confusion_matrix(ytest, predictions)\n",
        "\n",
        "plt.figure(figsize=(7,10))\n",
        "sns.heatmap(cm, annot=True, fmt=\".3f\", linewidths=.5, square = True, cmap = 'Blues_r', xticklabels=label_names, yticklabels=label_names)\n",
        "plt.ylabel('Actual value')\n",
        "plt.xlabel('Predicted value')\n",
        "plt.title('Confusion Matrix', size = 15)"
      ],
      "metadata": {
        "id": "fRrvr2k7tOQG",
        "colab": {
          "base_uri": "https://localhost:8080/",
          "height": 1000
        },
        "outputId": "1faabb02-e609-4bd3-9956-4d330c32d27d"
      },
      "execution_count": null,
      "outputs": [
        {
          "output_type": "stream",
          "name": "stdout",
          "text": [
            "45/45 [==============================] - 0s 5ms/step\n",
            "              precision    recall  f1-score   support\n",
            "\n",
            "         dog       0.65      0.67      0.66       258\n",
            "       horse       0.68      0.51      0.58       143\n",
            "    elephant       0.72      0.67      0.69       308\n",
            "   butterfly       0.71      0.76      0.73       498\n",
            "     chicken       0.80      0.86      0.83       202\n",
            "\n",
            "    accuracy                           0.71      1409\n",
            "   macro avg       0.71      0.69      0.70      1409\n",
            "weighted avg       0.71      0.71      0.71      1409\n",
            "\n"
          ]
        },
        {
          "output_type": "execute_result",
          "data": {
            "text/plain": [
              "Text(0.5, 1.0, 'Confusion Matrix')"
            ]
          },
          "metadata": {},
          "execution_count": 23
        },
        {
          "output_type": "display_data",
          "data": {
            "text/plain": [
              "<Figure size 700x1000 with 2 Axes>"
            ],
            "image/png": "[encoded data removed]"
          },
          "metadata": {}
        }
      ]
    },
    {
      "cell_type": "code",
      "source": [
        "predictions"
      ],
      "metadata": {
        "id": "Wge_4r2VtRsW",
        "colab": {
          "base_uri": "https://localhost:8080/"
        },
        "outputId": "82985316-cd4c-4e22-a8c6-238030a4329c"
      },
      "execution_count": null,
      "outputs": [
        {
          "output_type": "execute_result",
          "data": {
            "text/plain": [
              "array([0, 3, 3, ..., 3, 3, 3])"
            ]
          },
          "metadata": {},
          "execution_count": 24
        }
      ]
    },
    {
      "cell_type": "code",
      "source": [
        "xtest"
      ],
      "metadata": {
        "id": "G3MxDNcgtSE2",
        "colab": {
          "base_uri": "https://localhost:8080/"
        },
        "outputId": "9b5c3dba-84f5-426f-a93f-e2612d0f2ccf"
      },
      "execution_count": null,
      "outputs": [
        {
          "output_type": "execute_result",
          "data": {
            "text/plain": [
              "array([[[[0.03137255, 0.07058824, 0.01960784],\n",
              "         [0.05882353, 0.09803922, 0.04705882],\n",
              "         [0.08235294, 0.12156863, 0.07058824],\n",
              "         ...,\n",
              "         [0.09803922, 0.20392157, 0.1254902 ],\n",
              "         [0.10588235, 0.21176471, 0.13333333],\n",
              "         [0.14117647, 0.24705882, 0.16862745]],\n",
              "\n",
              "        [[0.05490196, 0.10196078, 0.02745098],\n",
              "         [0.08627451, 0.13333333, 0.05882353],\n",
              "         [0.10980392, 0.15686275, 0.08235294],\n",
              "         ...,\n",
              "         [0.16470588, 0.2627451 , 0.18431373],\n",
              "         [0.18039216, 0.27843137, 0.2       ],\n",
              "         [0.12941176, 0.22745098, 0.14901961]],\n",
              "\n",
              "        [[0.11372549, 0.16862745, 0.0745098 ],\n",
              "         [0.11372549, 0.16862745, 0.0745098 ],\n",
              "         [0.14117647, 0.19607843, 0.10196078],\n",
              "         ...,\n",
              "         [0.10980392, 0.20784314, 0.12941176],\n",
              "         [0.10588235, 0.20392157, 0.1254902 ],\n",
              "         [0.08235294, 0.18039216, 0.10196078]],\n",
              "\n",
              "        ...,\n",
              "\n",
              "        [[0.29411765, 0.41176471, 0.2745098 ],\n",
              "         [0.2627451 , 0.38039216, 0.24313725],\n",
              "         [0.29803922, 0.41568627, 0.27843137],\n",
              "         ...,\n",
              "         [0.16078431, 0.25490196, 0.18039216],\n",
              "         [0.17647059, 0.2745098 , 0.17647059],\n",
              "         [0.21960784, 0.31764706, 0.21176471]],\n",
              "\n",
              "        [[0.32941176, 0.4       , 0.27058824],\n",
              "         [0.26666667, 0.34509804, 0.21568627],\n",
              "         [0.27058824, 0.36078431, 0.22745098],\n",
              "         ...,\n",
              "         [0.27843137, 0.38039216, 0.28627451],\n",
              "         [0.34901961, 0.45882353, 0.33333333],\n",
              "         [0.38431373, 0.49411765, 0.35686275]],\n",
              "\n",
              "        [[0.32156863, 0.38823529, 0.25490196],\n",
              "         [0.38823529, 0.45490196, 0.32156863],\n",
              "         [0.3254902 , 0.4       , 0.27058824],\n",
              "         ...,\n",
              "         [0.2627451 , 0.36470588, 0.27058824],\n",
              "         [0.29019608, 0.39607843, 0.2745098 ],\n",
              "         [0.34901961, 0.45490196, 0.32156863]]],\n",
              "\n",
              "\n",
              "       [[[0.99607843, 0.99607843, 0.99607843],\n",
              "         [0.99215686, 0.99215686, 0.99215686],\n",
              "         [0.98823529, 0.98823529, 0.98823529],\n",
              "         ...,\n",
              "         [0.45098039, 0.50980392, 0.45490196],\n",
              "         [0.45882353, 0.51372549, 0.46666667],\n",
              "         [0.42745098, 0.47843137, 0.44705882]],\n",
              "\n",
              "        [[0.99215686, 0.99215686, 0.99215686],\n",
              "         [0.98431373, 0.98431373, 0.98431373],\n",
              "         [0.98039216, 0.98039216, 0.98039216],\n",
              "         ...,\n",
              "         [0.43921569, 0.50980392, 0.45490196],\n",
              "         [0.40784314, 0.48235294, 0.43137255],\n",
              "         [0.43137255, 0.49411765, 0.4627451 ]],\n",
              "\n",
              "        [[0.98823529, 0.98823529, 0.98823529],\n",
              "         [0.98039216, 0.98039216, 0.98039216],\n",
              "         [0.98039216, 0.98039216, 0.98039216],\n",
              "         ...,\n",
              "         [0.41960784, 0.50588235, 0.45882353],\n",
              "         [0.41176471, 0.50588235, 0.46666667],\n",
              "         [0.41568627, 0.49803922, 0.4627451 ]],\n",
              "\n",
              "        ...,\n",
              "\n",
              "        [[0.98823529, 0.98823529, 0.98823529],\n",
              "         [0.98431373, 0.98823529, 0.98823529],\n",
              "         [0.98431373, 0.98823529, 0.98823529],\n",
              "         ...,\n",
              "         [0.00392157, 0.00392157, 0.00392157],\n",
              "         [0.00392157, 0.00392157, 0.00392157],\n",
              "         [0.01176471, 0.01176471, 0.01176471]],\n",
              "\n",
              "        [[0.98823529, 0.98823529, 0.98823529],\n",
              "         [0.98823529, 0.98823529, 0.98823529],\n",
              "         [0.98823529, 0.98823529, 0.98823529],\n",
              "         ...,\n",
              "         [0.00392157, 0.00392157, 0.00392157],\n",
              "         [0.00392157, 0.00392157, 0.00392157],\n",
              "         [0.        , 0.        , 0.        ]],\n",
              "\n",
              "        [[0.99607843, 0.99607843, 0.99607843],\n",
              "         [0.99607843, 0.99607843, 0.99607843],\n",
              "         [0.99607843, 0.99607843, 0.99607843],\n",
              "         ...,\n",
              "         [0.00392157, 0.00392157, 0.00392157],\n",
              "         [0.00392157, 0.00392157, 0.00392157],\n",
              "         [0.00392157, 0.00392157, 0.00392157]]],\n",
              "\n",
              "\n",
              "       [[[0.03529412, 0.05882353, 0.10196078],\n",
              "         [0.03529412, 0.05882353, 0.10196078],\n",
              "         [0.03529412, 0.05882353, 0.10196078],\n",
              "         ...,\n",
              "         [0.03529412, 0.05882353, 0.10196078],\n",
              "         [0.03529412, 0.05882353, 0.10196078],\n",
              "         [0.03529412, 0.05882353, 0.10196078]],\n",
              "\n",
              "        [[0.03529412, 0.05882353, 0.10196078],\n",
              "         [0.03529412, 0.05882353, 0.10196078],\n",
              "         [0.03529412, 0.05882353, 0.10196078],\n",
              "         ...,\n",
              "         [0.03529412, 0.05882353, 0.10196078],\n",
              "         [0.03529412, 0.05882353, 0.10196078],\n",
              "         [0.03529412, 0.05882353, 0.10196078]],\n",
              "\n",
              "        [[0.03529412, 0.05882353, 0.10196078],\n",
              "         [0.03529412, 0.05882353, 0.10196078],\n",
              "         [0.03529412, 0.05882353, 0.10196078],\n",
              "         ...,\n",
              "         [0.03529412, 0.05882353, 0.10196078],\n",
              "         [0.03529412, 0.05882353, 0.10196078],\n",
              "         [0.03529412, 0.05882353, 0.10196078]],\n",
              "\n",
              "        ...,\n",
              "\n",
              "        [[0.03137255, 0.0627451 , 0.11372549],\n",
              "         [0.01960784, 0.05098039, 0.10196078],\n",
              "         [0.01960784, 0.04313725, 0.09019608],\n",
              "         ...,\n",
              "         [0.04313725, 0.05882353, 0.10196078],\n",
              "         [0.04313725, 0.05882353, 0.10196078],\n",
              "         [0.04705882, 0.0627451 , 0.10588235]],\n",
              "\n",
              "        [[0.01960784, 0.05882353, 0.10588235],\n",
              "         [0.01568627, 0.04705882, 0.09803922],\n",
              "         [0.02352941, 0.05490196, 0.10588235],\n",
              "         ...,\n",
              "         [0.04313725, 0.05882353, 0.10196078],\n",
              "         [0.04313725, 0.05882353, 0.10196078],\n",
              "         [0.02352941, 0.03921569, 0.08235294]],\n",
              "\n",
              "        [[0.03137255, 0.07843137, 0.11764706],\n",
              "         [0.01960784, 0.05490196, 0.10588235],\n",
              "         [0.02352941, 0.05882353, 0.10588235],\n",
              "         ...,\n",
              "         [0.04313725, 0.05882353, 0.10196078],\n",
              "         [0.04313725, 0.05882353, 0.10196078],\n",
              "         [0.04705882, 0.0627451 , 0.10588235]]],\n",
              "\n",
              "\n",
              "       ...,\n",
              "\n",
              "\n",
              "       [[[0.24705882, 0.71764706, 0.50196078],\n",
              "         [0.23137255, 0.71764706, 0.49803922],\n",
              "         [0.22352941, 0.70588235, 0.48627451],\n",
              "         ...,\n",
              "         [0.14901961, 0.71764706, 0.41176471],\n",
              "         [0.18431373, 0.72941176, 0.42745098],\n",
              "         [0.18039216, 0.69803922, 0.4       ]],\n",
              "\n",
              "        [[0.24313725, 0.70588235, 0.49019608],\n",
              "         [0.21960784, 0.69803922, 0.47843137],\n",
              "         [0.19607843, 0.67843137, 0.45882353],\n",
              "         ...,\n",
              "         [0.1372549 , 0.68627451, 0.39215686],\n",
              "         [0.17647059, 0.70588235, 0.41960784],\n",
              "         [0.14117647, 0.65098039, 0.36470588]],\n",
              "\n",
              "        [[0.29803922, 0.73333333, 0.52156863],\n",
              "         [0.24705882, 0.71372549, 0.49411765],\n",
              "         [0.2       , 0.67843137, 0.45882353],\n",
              "         ...,\n",
              "         [0.14901961, 0.68235294, 0.39215686],\n",
              "         [0.19215686, 0.70588235, 0.41960784],\n",
              "         [0.15294118, 0.64705882, 0.36470588]],\n",
              "\n",
              "        ...,\n",
              "\n",
              "        [[0.08235294, 0.64705882, 0.35686275],\n",
              "         [0.01960784, 0.52156863, 0.2627451 ],\n",
              "         [0.16078431, 0.54117647, 0.30196078],\n",
              "         ...,\n",
              "         [0.09411765, 0.56862745, 0.23529412],\n",
              "         [0.08235294, 0.54901961, 0.2       ],\n",
              "         [0.09019608, 0.59215686, 0.24313725]],\n",
              "\n",
              "        [[0.09411765, 0.64705882, 0.35294118],\n",
              "         [0.03921569, 0.53333333, 0.2745098 ],\n",
              "         [0.02352941, 0.38823529, 0.15686275],\n",
              "         ...,\n",
              "         [0.03921569, 0.51764706, 0.18039216],\n",
              "         [0.08235294, 0.56078431, 0.20784314],\n",
              "         [0.02745098, 0.5372549 , 0.18823529]],\n",
              "\n",
              "        [[0.05882353, 0.58431373, 0.28627451],\n",
              "         [0.08235294, 0.56862745, 0.31372549],\n",
              "         [0.02745098, 0.40392157, 0.18823529],\n",
              "         ...,\n",
              "         [0.02745098, 0.51764706, 0.18039216],\n",
              "         [0.08627451, 0.57647059, 0.22352941],\n",
              "         [0.01960784, 0.52941176, 0.18039216]]],\n",
              "\n",
              "\n",
              "       [[[0.90196078, 0.89803922, 0.93333333],\n",
              "         [0.88627451, 0.88235294, 0.91764706],\n",
              "         [0.89803922, 0.89411765, 0.92941176],\n",
              "         ...,\n",
              "         [0.81176471, 0.85490196, 0.87058824],\n",
              "         [0.30980392, 0.35294118, 0.36862745],\n",
              "         [0.84313725, 0.89411765, 0.92156863]],\n",
              "\n",
              "        [[0.90196078, 0.89803922, 0.93333333],\n",
              "         [0.88627451, 0.88235294, 0.91764706],\n",
              "         [0.89411765, 0.89019608, 0.9254902 ],\n",
              "         ...,\n",
              "         [0.83529412, 0.87058824, 0.88627451],\n",
              "         [0.2       , 0.23529412, 0.25098039],\n",
              "         [0.81568627, 0.85490196, 0.88235294]],\n",
              "\n",
              "        [[0.89411765, 0.89019608, 0.9254902 ],\n",
              "         [0.88235294, 0.87843137, 0.91372549],\n",
              "         [0.89019608, 0.88627451, 0.92156863],\n",
              "         ...,\n",
              "         [0.90980392, 0.93333333, 0.95294118],\n",
              "         [0.3372549 , 0.36078431, 0.38039216],\n",
              "         [0.83921569, 0.86666667, 0.88235294]],\n",
              "\n",
              "        ...,\n",
              "\n",
              "        [[0.72156863, 0.71372549, 0.68235294],\n",
              "         [0.64705882, 0.63921569, 0.60784314],\n",
              "         [0.61176471, 0.60392157, 0.57254902],\n",
              "         ...,\n",
              "         [0.76470588, 0.75294118, 0.69803922],\n",
              "         [0.81176471, 0.8       , 0.74509804],\n",
              "         [0.78823529, 0.77647059, 0.72156863]],\n",
              "\n",
              "        [[0.70980392, 0.70196078, 0.67058824],\n",
              "         [0.6745098 , 0.66666667, 0.63529412],\n",
              "         [0.6627451 , 0.65490196, 0.62352941],\n",
              "         ...,\n",
              "         [0.70588235, 0.68235294, 0.63137255],\n",
              "         [0.78039216, 0.75294118, 0.70196078],\n",
              "         [0.76862745, 0.7372549 , 0.68627451]],\n",
              "\n",
              "        [[0.7254902 , 0.70196078, 0.6745098 ],\n",
              "         [0.70980392, 0.68627451, 0.65882353],\n",
              "         [0.68235294, 0.65882353, 0.63137255],\n",
              "         ...,\n",
              "         [0.80784314, 0.77254902, 0.72156863],\n",
              "         [0.75686275, 0.71372549, 0.66666667],\n",
              "         [0.76862745, 0.7372549 , 0.68627451]]],\n",
              "\n",
              "\n",
              "       [[[0.10196078, 0.2       , 0.18431373],\n",
              "         [0.05882353, 0.15686275, 0.14117647],\n",
              "         [0.02352941, 0.12156863, 0.10588235],\n",
              "         ...,\n",
              "         [0.08627451, 0.17647059, 0.15686275],\n",
              "         [0.01960784, 0.06666667, 0.05098039],\n",
              "         [0.05098039, 0.11764706, 0.10196078]],\n",
              "\n",
              "        [[0.04705882, 0.14509804, 0.12941176],\n",
              "         [0.05882353, 0.15686275, 0.14117647],\n",
              "         [0.03137255, 0.12941176, 0.10980392],\n",
              "         ...,\n",
              "         [0.01960784, 0.11764706, 0.09411765],\n",
              "         [0.01960784, 0.07843137, 0.05882353],\n",
              "         [0.04705882, 0.1254902 , 0.10588235]],\n",
              "\n",
              "        [[0.07058824, 0.16862745, 0.15294118],\n",
              "         [0.04705882, 0.14509804, 0.12941176],\n",
              "         [0.10196078, 0.2       , 0.18039216],\n",
              "         ...,\n",
              "         [0.04313725, 0.14509804, 0.12156863],\n",
              "         [0.0745098 , 0.15294118, 0.13333333],\n",
              "         [0.05098039, 0.12941176, 0.10980392]],\n",
              "\n",
              "        ...,\n",
              "\n",
              "        [[0.60392157, 0.81176471, 0.8627451 ],\n",
              "         [0.58431373, 0.79215686, 0.84313725],\n",
              "         [0.64705882, 0.85490196, 0.90980392],\n",
              "         ...,\n",
              "         [0.62745098, 0.83137255, 0.89411765],\n",
              "         [0.50980392, 0.71372549, 0.77647059],\n",
              "         [0.63137255, 0.83137255, 0.89411765]],\n",
              "\n",
              "        [[0.64705882, 0.85490196, 0.90588235],\n",
              "         [0.60784314, 0.81568627, 0.86666667],\n",
              "         [0.63137255, 0.83921569, 0.89019608],\n",
              "         ...,\n",
              "         [0.62352941, 0.82745098, 0.89019608],\n",
              "         [0.56862745, 0.77254902, 0.83529412],\n",
              "         [0.65490196, 0.85882353, 0.92156863]],\n",
              "\n",
              "        [[0.65098039, 0.85882353, 0.90980392],\n",
              "         [0.61960784, 0.82745098, 0.87843137],\n",
              "         [0.62352941, 0.83137255, 0.88235294],\n",
              "         ...,\n",
              "         [0.61960784, 0.82352941, 0.88627451],\n",
              "         [0.62352941, 0.82745098, 0.89019608],\n",
              "         [0.59607843, 0.8       , 0.8627451 ]]]])"
            ]
          },
          "metadata": {},
          "execution_count": 25
        }
      ]
    },
    {
      "cell_type": "code",
      "source": [
        "predictions = model.predict(xtest)"
      ],
      "metadata": {
        "id": "is3T4ERkzt8t"
      },
      "execution_count": null,
      "outputs": []
    },
    {
      "cell_type": "code",
      "source": [
        "predictions"
      ],
      "metadata": {
        "id": "Rj6s2HAstSMm",
        "colab": {
          "base_uri": "https://localhost:8080/"
        },
        "outputId": "68c7c190-6bfa-4587-e57b-3f8459bc6c8e"
      },
      "execution_count": null,
      "outputs": [
        {
          "output_type": "execute_result",
          "data": {
            "text/plain": [
              "array([0, 0, 0, ..., 3, 3, 0])"
            ]
          },
          "metadata": {},
          "execution_count": 19
        }
      ]
    },
    {
      "cell_type": "code",
      "source": [
        "import numpy as np\n",
        "from PIL import Image\n",
        "\n"
      ],
      "metadata": {
        "id": "rr_tDEcr9yHF"
      },
      "execution_count": null,
      "outputs": []
    },
    {
      "cell_type": "code",
      "source": [
        "img = Image.open('/content/drive/MyDrive/animal_10/raw-img/cane/OIP-_3S-iEDMQnko7ZHgq_FTcwHaEL.jpeg')\n",
        "img = img.resize((100, 100))  # resize your image to the input shape of your CNN model\n",
        "img_array = np.array(img)  # convert your image to a numpy array\n",
        "img_array = np.expand_dims(img_array, axis=0)\n"
      ],
      "metadata": {
        "id": "fvuIrOpb92Jm"
      },
      "execution_count": null,
      "outputs": []
    },
    {
      "cell_type": "code",
      "source": [
        "from tensorflow.keras.applications.mobilenet_v2 import preprocess_input\n",
        "\n",
        "img_array = preprocess_input(img_array)  # apply the preprocessing function specific to your CNN model\n"
      ],
      "metadata": {
        "id": "orbWOBxa--yc"
      },
      "execution_count": null,
      "outputs": []
    },
    {
      "cell_type": "code",
      "source": [
        "pred = model.predict(img_array)"
      ],
      "metadata": {
        "colab": {
          "base_uri": "https://localhost:8080/"
        },
        "id": "OndLlagi_CED",
        "outputId": "3e50f9e8-9f35-4ff4-873d-db2f33df70a8"
      },
      "execution_count": null,
      "outputs": [
        {
          "output_type": "stream",
          "name": "stdout",
          "text": [
            "1/1 [==============================] - 0s 20ms/step\n"
          ]
        }
      ]
    },
    {
      "cell_type": "code",
      "source": [
        "print(pred)\n"
      ],
      "metadata": {
        "colab": {
          "base_uri": "https://localhost:8080/"
        },
        "id": "7kQ3_QF9KdUD",
        "outputId": "b49ce5d7-1aa3-4a18-d070-393c3c61a4eb"
      },
      "execution_count": null,
      "outputs": [
        {
          "output_type": "stream",
          "name": "stdout",
          "text": [
            "[[0.16627666 0.25561652 0.19313811 0.19501978 0.18994893]]\n"
          ]
        }
      ]
    },
    {
      "cell_type": "code",
      "source": [
        "class_idx = np.argmax(pred, axis=1)[0]"
      ],
      "metadata": {
        "id": "uHWk85ZcKqsZ"
      },
      "execution_count": null,
      "outputs": []
    },
    {
      "cell_type": "code",
      "source": [
        "class_names = ['dog', 'horse', 'elephant', 'butterfly', 'chicken']"
      ],
      "metadata": {
        "id": "UEp27qNAKu9J"
      },
      "execution_count": null,
      "outputs": []
    },
    {
      "cell_type": "code",
      "source": [
        "class_name = class_names[class_idx]"
      ],
      "metadata": {
        "id": "51KrtIs_K8Hr"
      },
      "execution_count": null,
      "outputs": []
    },
    {
      "cell_type": "code",
      "source": [
        "print('The predicted class is:', class_name)"
      ],
      "metadata": {
        "id": "6O_tMFLmLAAL",
        "outputId": "58603355-f3d9-41f4-8745-61677d6963ca",
        "colab": {
          "base_uri": "https://localhost:8080/"
        }
      },
      "execution_count": null,
      "outputs": [
        {
          "output_type": "stream",
          "name": "stdout",
          "text": [
            "The predicted class is: horse\n"
          ]
        }
      ]
    }
  ]
}